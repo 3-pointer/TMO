{
 "cells": [
  {
   "cell_type": "markdown",
   "source": [
    "РК №2 Чернецов Семён ИУ5-65Б\n",
    "\n",
    "Вариант №16\n",
    "\n"
   ],
   "metadata": {
    "collapsed": false
   }
  },
  {
   "cell_type": "code",
   "execution_count": 133,
   "metadata": {
    "collapsed": true,
    "ExecuteTime": {
     "end_time": "2023-05-28T18:40:44.034125200Z",
     "start_time": "2023-05-28T18:40:44.025828600Z"
    }
   },
   "outputs": [],
   "source": [
    "import numpy as np\n",
    "import pandas as pd\n",
    "import matplotlib.pyplot as plt\n",
    "import seaborn as sns\n",
    "import sklearn\n",
    "from sklearn import preprocessing, linear_model\n",
    "from sklearn.neighbors import KNeighborsClassifier, KNeighborsRegressor\n",
    "from sklearn.model_selection import train_test_split\n",
    "from sklearn import neighbors\n",
    "from sklearn.metrics import mean_squared_error\n",
    "from math import sqrt\n",
    "import matplotlib.pyplot as plt\n",
    "%matplotlib inline\n",
    "from sklearn.metrics import r2_score\n",
    "%matplotlib inline\n",
    "sns.set(style=\"ticks\")\n",
    "from sklearn import tree\n",
    "from sklearn.svm import SVR, NuSVR, LinearSVR\n",
    "from sklearn.preprocessing import LabelEncoder, StandardScaler"
   ]
  },
  {
   "cell_type": "markdown",
   "source": [
    "Подключаем датасет."
   ],
   "metadata": {
    "collapsed": false
   }
  },
  {
   "cell_type": "code",
   "execution_count": 134,
   "outputs": [],
   "source": [
    "df=pd.read_csv(r'C:\\Users\\Admin\\Downloads\\restaurant-scores-lives-standard.csv')"
   ],
   "metadata": {
    "collapsed": false,
    "ExecuteTime": {
     "end_time": "2023-05-28T18:41:04.047150100Z",
     "start_time": "2023-05-28T18:41:03.879291100Z"
    }
   }
  },
  {
   "cell_type": "markdown",
   "source": [
    "Просмотр датасета"
   ],
   "metadata": {
    "collapsed": false
   }
  },
  {
   "cell_type": "code",
   "execution_count": 135,
   "outputs": [
    {
     "data": {
      "text/plain": "       business_id          business_name          business_address  \\\n0           101192           Cochinita #2  2 Marina Blvd Fort Mason   \n1            97975             BREADBELLY           1408 Clement St   \n2            92982  Great Gold Restaurant             3161 24th St.   \n3           101389                 HOMAGE         214 CALIFORNIA ST   \n4            85986           Pronto Pizza               798 Eddy St   \n...            ...                    ...                       ...   \n53968        89569     Blue Bottle Coffee              2 South Park   \n53969        99764              POKE KANA              65 CAMBON Dr   \n53970        84541           Philz Coffee             300 Folsom St   \n53971        91572      El Gran Taco Loco          4591 Mission St.   \n53972        89569     Blue Bottle Coffee              2 South Park   \n\n       business_city business_state business_postal_code  business_latitude  \\\n0      San Francisco             CA                  NaN                NaN   \n1      San Francisco             CA                94118                NaN   \n2      San Francisco             CA                94110                NaN   \n3      San Francisco             CA                94111                NaN   \n4      San Francisco             CA                94109                NaN   \n...              ...            ...                  ...                ...   \n53968  San Francisco             CA                94107                NaN   \n53969  San Francisco             CA                94132                NaN   \n53970  San Francisco             CA                94105                NaN   \n53971  San Francisco             CA                94112                NaN   \n53972  San Francisco             CA                94107                NaN   \n\n       business_longitude business_location  business_phone_number  ...  \\\n0                     NaN               NaN           1.415043e+10  ...   \n1                     NaN               NaN           1.415724e+10  ...   \n2                     NaN               NaN                    NaN  ...   \n3                     NaN               NaN           1.415488e+10  ...   \n4                     NaN               NaN                    NaN  ...   \n...                   ...               ...                    ...  ...   \n53968                 NaN               NaN                    NaN  ...   \n53969                 NaN               NaN                    NaN  ...   \n53970                 NaN               NaN                    NaN  ...   \n53971                 NaN               NaN                    NaN  ...   \n53972                 NaN               NaN                    NaN  ...   \n\n                inspection_type           violation_id  \\\n0                 New Ownership                    NaN   \n1         Routine - Unscheduled  97975_20190725_103124   \n2                 New Ownership                    NaN   \n3              New Construction                    NaN   \n4                 New Ownership  85986_20161011_103114   \n...                         ...                    ...   \n53968     Routine - Unscheduled  89569_20190506_103124   \n53969  New Ownership - Followup                    NaN   \n53970     Routine - Unscheduled  84541_20190506_103133   \n53971     Routine - Unscheduled  91572_20190506_103116   \n53972     Routine - Unscheduled  89569_20190506_103157   \n\n                                   violation_description  risk_category  \\\n0                                                    NaN            NaN   \n1      Inadequately cleaned or sanitized food contact...  Moderate Risk   \n2                                                    NaN            NaN   \n3                                                    NaN            NaN   \n4                           High risk vermin infestation      High Risk   \n...                                                  ...            ...   \n53968  Inadequately cleaned or sanitized food contact...  Moderate Risk   \n53969                                                NaN            NaN   \n53970             Foods not protected from contamination  Moderate Risk   \n53971  Inadequate food safety knowledge or lack of ce...  Moderate Risk   \n53972  Food safety certificate or food handler card n...       Low Risk   \n\n      Neighborhoods (old) Police Districts Supervisor Districts  \\\n0                     NaN              NaN                  NaN   \n1                     NaN              NaN                  NaN   \n2                     NaN              NaN                  NaN   \n3                     NaN              NaN                  NaN   \n4                     NaN              NaN                  NaN   \n...                   ...              ...                  ...   \n53968                 NaN              NaN                  NaN   \n53969                 NaN              NaN                  NaN   \n53970                 NaN              NaN                  NaN   \n53971                 NaN              NaN                  NaN   \n53972                 NaN              NaN                  NaN   \n\n       Fire Prevention Districts  Zip Codes  Analysis Neighborhoods  \n0                            NaN        NaN                     NaN  \n1                            NaN        NaN                     NaN  \n2                            NaN        NaN                     NaN  \n3                            NaN        NaN                     NaN  \n4                            NaN        NaN                     NaN  \n...                          ...        ...                     ...  \n53968                        NaN        NaN                     NaN  \n53969                        NaN        NaN                     NaN  \n53970                        NaN        NaN                     NaN  \n53971                        NaN        NaN                     NaN  \n53972                        NaN        NaN                     NaN  \n\n[53973 rows x 23 columns]",
      "text/html": "<div>\n<style scoped>\n    .dataframe tbody tr th:only-of-type {\n        vertical-align: middle;\n    }\n\n    .dataframe tbody tr th {\n        vertical-align: top;\n    }\n\n    .dataframe thead th {\n        text-align: right;\n    }\n</style>\n<table border=\"1\" class=\"dataframe\">\n  <thead>\n    <tr style=\"text-align: right;\">\n      <th></th>\n      <th>business_id</th>\n      <th>business_name</th>\n      <th>business_address</th>\n      <th>business_city</th>\n      <th>business_state</th>\n      <th>business_postal_code</th>\n      <th>business_latitude</th>\n      <th>business_longitude</th>\n      <th>business_location</th>\n      <th>business_phone_number</th>\n      <th>...</th>\n      <th>inspection_type</th>\n      <th>violation_id</th>\n      <th>violation_description</th>\n      <th>risk_category</th>\n      <th>Neighborhoods (old)</th>\n      <th>Police Districts</th>\n      <th>Supervisor Districts</th>\n      <th>Fire Prevention Districts</th>\n      <th>Zip Codes</th>\n      <th>Analysis Neighborhoods</th>\n    </tr>\n  </thead>\n  <tbody>\n    <tr>\n      <th>0</th>\n      <td>101192</td>\n      <td>Cochinita #2</td>\n      <td>2 Marina Blvd Fort Mason</td>\n      <td>San Francisco</td>\n      <td>CA</td>\n      <td>NaN</td>\n      <td>NaN</td>\n      <td>NaN</td>\n      <td>NaN</td>\n      <td>1.415043e+10</td>\n      <td>...</td>\n      <td>New Ownership</td>\n      <td>NaN</td>\n      <td>NaN</td>\n      <td>NaN</td>\n      <td>NaN</td>\n      <td>NaN</td>\n      <td>NaN</td>\n      <td>NaN</td>\n      <td>NaN</td>\n      <td>NaN</td>\n    </tr>\n    <tr>\n      <th>1</th>\n      <td>97975</td>\n      <td>BREADBELLY</td>\n      <td>1408 Clement St</td>\n      <td>San Francisco</td>\n      <td>CA</td>\n      <td>94118</td>\n      <td>NaN</td>\n      <td>NaN</td>\n      <td>NaN</td>\n      <td>1.415724e+10</td>\n      <td>...</td>\n      <td>Routine - Unscheduled</td>\n      <td>97975_20190725_103124</td>\n      <td>Inadequately cleaned or sanitized food contact...</td>\n      <td>Moderate Risk</td>\n      <td>NaN</td>\n      <td>NaN</td>\n      <td>NaN</td>\n      <td>NaN</td>\n      <td>NaN</td>\n      <td>NaN</td>\n    </tr>\n    <tr>\n      <th>2</th>\n      <td>92982</td>\n      <td>Great Gold Restaurant</td>\n      <td>3161 24th St.</td>\n      <td>San Francisco</td>\n      <td>CA</td>\n      <td>94110</td>\n      <td>NaN</td>\n      <td>NaN</td>\n      <td>NaN</td>\n      <td>NaN</td>\n      <td>...</td>\n      <td>New Ownership</td>\n      <td>NaN</td>\n      <td>NaN</td>\n      <td>NaN</td>\n      <td>NaN</td>\n      <td>NaN</td>\n      <td>NaN</td>\n      <td>NaN</td>\n      <td>NaN</td>\n      <td>NaN</td>\n    </tr>\n    <tr>\n      <th>3</th>\n      <td>101389</td>\n      <td>HOMAGE</td>\n      <td>214 CALIFORNIA ST</td>\n      <td>San Francisco</td>\n      <td>CA</td>\n      <td>94111</td>\n      <td>NaN</td>\n      <td>NaN</td>\n      <td>NaN</td>\n      <td>1.415488e+10</td>\n      <td>...</td>\n      <td>New Construction</td>\n      <td>NaN</td>\n      <td>NaN</td>\n      <td>NaN</td>\n      <td>NaN</td>\n      <td>NaN</td>\n      <td>NaN</td>\n      <td>NaN</td>\n      <td>NaN</td>\n      <td>NaN</td>\n    </tr>\n    <tr>\n      <th>4</th>\n      <td>85986</td>\n      <td>Pronto Pizza</td>\n      <td>798 Eddy St</td>\n      <td>San Francisco</td>\n      <td>CA</td>\n      <td>94109</td>\n      <td>NaN</td>\n      <td>NaN</td>\n      <td>NaN</td>\n      <td>NaN</td>\n      <td>...</td>\n      <td>New Ownership</td>\n      <td>85986_20161011_103114</td>\n      <td>High risk vermin infestation</td>\n      <td>High Risk</td>\n      <td>NaN</td>\n      <td>NaN</td>\n      <td>NaN</td>\n      <td>NaN</td>\n      <td>NaN</td>\n      <td>NaN</td>\n    </tr>\n    <tr>\n      <th>...</th>\n      <td>...</td>\n      <td>...</td>\n      <td>...</td>\n      <td>...</td>\n      <td>...</td>\n      <td>...</td>\n      <td>...</td>\n      <td>...</td>\n      <td>...</td>\n      <td>...</td>\n      <td>...</td>\n      <td>...</td>\n      <td>...</td>\n      <td>...</td>\n      <td>...</td>\n      <td>...</td>\n      <td>...</td>\n      <td>...</td>\n      <td>...</td>\n      <td>...</td>\n      <td>...</td>\n    </tr>\n    <tr>\n      <th>53968</th>\n      <td>89569</td>\n      <td>Blue Bottle Coffee</td>\n      <td>2 South Park</td>\n      <td>San Francisco</td>\n      <td>CA</td>\n      <td>94107</td>\n      <td>NaN</td>\n      <td>NaN</td>\n      <td>NaN</td>\n      <td>NaN</td>\n      <td>...</td>\n      <td>Routine - Unscheduled</td>\n      <td>89569_20190506_103124</td>\n      <td>Inadequately cleaned or sanitized food contact...</td>\n      <td>Moderate Risk</td>\n      <td>NaN</td>\n      <td>NaN</td>\n      <td>NaN</td>\n      <td>NaN</td>\n      <td>NaN</td>\n      <td>NaN</td>\n    </tr>\n    <tr>\n      <th>53969</th>\n      <td>99764</td>\n      <td>POKE KANA</td>\n      <td>65 CAMBON Dr</td>\n      <td>San Francisco</td>\n      <td>CA</td>\n      <td>94132</td>\n      <td>NaN</td>\n      <td>NaN</td>\n      <td>NaN</td>\n      <td>NaN</td>\n      <td>...</td>\n      <td>New Ownership - Followup</td>\n      <td>NaN</td>\n      <td>NaN</td>\n      <td>NaN</td>\n      <td>NaN</td>\n      <td>NaN</td>\n      <td>NaN</td>\n      <td>NaN</td>\n      <td>NaN</td>\n      <td>NaN</td>\n    </tr>\n    <tr>\n      <th>53970</th>\n      <td>84541</td>\n      <td>Philz Coffee</td>\n      <td>300 Folsom St</td>\n      <td>San Francisco</td>\n      <td>CA</td>\n      <td>94105</td>\n      <td>NaN</td>\n      <td>NaN</td>\n      <td>NaN</td>\n      <td>NaN</td>\n      <td>...</td>\n      <td>Routine - Unscheduled</td>\n      <td>84541_20190506_103133</td>\n      <td>Foods not protected from contamination</td>\n      <td>Moderate Risk</td>\n      <td>NaN</td>\n      <td>NaN</td>\n      <td>NaN</td>\n      <td>NaN</td>\n      <td>NaN</td>\n      <td>NaN</td>\n    </tr>\n    <tr>\n      <th>53971</th>\n      <td>91572</td>\n      <td>El Gran Taco Loco</td>\n      <td>4591 Mission St.</td>\n      <td>San Francisco</td>\n      <td>CA</td>\n      <td>94112</td>\n      <td>NaN</td>\n      <td>NaN</td>\n      <td>NaN</td>\n      <td>NaN</td>\n      <td>...</td>\n      <td>Routine - Unscheduled</td>\n      <td>91572_20190506_103116</td>\n      <td>Inadequate food safety knowledge or lack of ce...</td>\n      <td>Moderate Risk</td>\n      <td>NaN</td>\n      <td>NaN</td>\n      <td>NaN</td>\n      <td>NaN</td>\n      <td>NaN</td>\n      <td>NaN</td>\n    </tr>\n    <tr>\n      <th>53972</th>\n      <td>89569</td>\n      <td>Blue Bottle Coffee</td>\n      <td>2 South Park</td>\n      <td>San Francisco</td>\n      <td>CA</td>\n      <td>94107</td>\n      <td>NaN</td>\n      <td>NaN</td>\n      <td>NaN</td>\n      <td>NaN</td>\n      <td>...</td>\n      <td>Routine - Unscheduled</td>\n      <td>89569_20190506_103157</td>\n      <td>Food safety certificate or food handler card n...</td>\n      <td>Low Risk</td>\n      <td>NaN</td>\n      <td>NaN</td>\n      <td>NaN</td>\n      <td>NaN</td>\n      <td>NaN</td>\n      <td>NaN</td>\n    </tr>\n  </tbody>\n</table>\n<p>53973 rows × 23 columns</p>\n</div>"
     },
     "execution_count": 135,
     "metadata": {},
     "output_type": "execute_result"
    }
   ],
   "source": [
    "df"
   ],
   "metadata": {
    "collapsed": false,
    "ExecuteTime": {
     "end_time": "2023-05-28T18:41:05.234193900Z",
     "start_time": "2023-05-28T18:41:05.191942Z"
    }
   }
  },
  {
   "cell_type": "code",
   "execution_count": 136,
   "outputs": [
    {
     "name": "stdout",
     "output_type": "stream",
     "text": [
      "<class 'pandas.core.frame.DataFrame'>\n",
      "RangeIndex: 53973 entries, 0 to 53972\n",
      "Data columns (total 23 columns):\n",
      " #   Column                     Non-Null Count  Dtype  \n",
      "---  ------                     --------------  -----  \n",
      " 0   business_id                53973 non-null  int64  \n",
      " 1   business_name              53973 non-null  object \n",
      " 2   business_address           53973 non-null  object \n",
      " 3   business_city              53973 non-null  object \n",
      " 4   business_state             53973 non-null  object \n",
      " 5   business_postal_code       52955 non-null  object \n",
      " 6   business_latitude          34417 non-null  float64\n",
      " 7   business_longitude         34417 non-null  float64\n",
      " 8   business_location          34417 non-null  object \n",
      " 9   business_phone_number      17035 non-null  float64\n",
      " 10  inspection_id              53973 non-null  object \n",
      " 11  inspection_date            53973 non-null  object \n",
      " 12  inspection_score           40363 non-null  float64\n",
      " 13  inspection_type            53973 non-null  object \n",
      " 14  violation_id               41103 non-null  object \n",
      " 15  violation_description      41103 non-null  object \n",
      " 16  risk_category              41103 non-null  object \n",
      " 17  Neighborhoods (old)        34379 non-null  float64\n",
      " 18  Police Districts           34379 non-null  float64\n",
      " 19  Supervisor Districts       34379 non-null  float64\n",
      " 20  Fire Prevention Districts  34327 non-null  float64\n",
      " 21  Zip Codes                  34397 non-null  float64\n",
      " 22  Analysis Neighborhoods     34379 non-null  float64\n",
      "dtypes: float64(10), int64(1), object(12)\n",
      "memory usage: 9.5+ MB\n"
     ]
    }
   ],
   "source": [
    "df.info()"
   ],
   "metadata": {
    "collapsed": false,
    "ExecuteTime": {
     "end_time": "2023-05-28T18:41:06.254314200Z",
     "start_time": "2023-05-28T18:41:06.180888100Z"
    }
   }
  },
  {
   "cell_type": "markdown",
   "source": [
    "Количество пропусков для каждого признака"
   ],
   "metadata": {
    "collapsed": false
   }
  },
  {
   "cell_type": "code",
   "execution_count": 137,
   "outputs": [
    {
     "data": {
      "text/plain": "business_id                      0\nbusiness_name                    0\nbusiness_address                 0\nbusiness_city                    0\nbusiness_state                   0\nbusiness_postal_code          1018\nbusiness_latitude            19556\nbusiness_longitude           19556\nbusiness_location            19556\nbusiness_phone_number        36938\ninspection_id                    0\ninspection_date                  0\ninspection_score             13610\ninspection_type                  0\nviolation_id                 12870\nviolation_description        12870\nrisk_category                12870\nNeighborhoods (old)          19594\nPolice Districts             19594\nSupervisor Districts         19594\nFire Prevention Districts    19646\nZip Codes                    19576\nAnalysis Neighborhoods       19594\ndtype: int64"
     },
     "execution_count": 137,
     "metadata": {},
     "output_type": "execute_result"
    }
   ],
   "source": [
    "df.isnull().sum()"
   ],
   "metadata": {
    "collapsed": false,
    "ExecuteTime": {
     "end_time": "2023-05-28T18:41:07.794392600Z",
     "start_time": "2023-05-28T18:41:07.737186700Z"
    }
   }
  },
  {
   "cell_type": "markdown",
   "source": [
    "Заполним пропуски признака inspection_score значением медианы"
   ],
   "metadata": {
    "collapsed": false
   }
  },
  {
   "cell_type": "code",
   "execution_count": 138,
   "outputs": [
    {
     "data": {
      "text/plain": "87.0"
     },
     "execution_count": 138,
     "metadata": {},
     "output_type": "execute_result"
    }
   ],
   "source": [
    "df['inspection_score'].median()"
   ],
   "metadata": {
    "collapsed": false,
    "ExecuteTime": {
     "end_time": "2023-05-28T18:41:09.024852400Z",
     "start_time": "2023-05-28T18:41:09.012874200Z"
    }
   }
  },
  {
   "cell_type": "code",
   "execution_count": 139,
   "outputs": [],
   "source": [
    "df['inspection_score'].fillna(df['inspection_score'].median(), inplace=True)"
   ],
   "metadata": {
    "collapsed": false,
    "ExecuteTime": {
     "end_time": "2023-05-28T18:41:09.723285700Z",
     "start_time": "2023-05-28T18:41:09.709278300Z"
    }
   }
  },
  {
   "cell_type": "code",
   "execution_count": 140,
   "outputs": [
    {
     "data": {
      "text/plain": "       business_id          business_name          business_address  \\\n0           101192           Cochinita #2  2 Marina Blvd Fort Mason   \n1            97975             BREADBELLY           1408 Clement St   \n2            92982  Great Gold Restaurant             3161 24th St.   \n3           101389                 HOMAGE         214 CALIFORNIA ST   \n4            85986           Pronto Pizza               798 Eddy St   \n...            ...                    ...                       ...   \n53968        89569     Blue Bottle Coffee              2 South Park   \n53969        99764              POKE KANA              65 CAMBON Dr   \n53970        84541           Philz Coffee             300 Folsom St   \n53971        91572      El Gran Taco Loco          4591 Mission St.   \n53972        89569     Blue Bottle Coffee              2 South Park   \n\n       business_city business_state business_postal_code  business_latitude  \\\n0      San Francisco             CA                  NaN                NaN   \n1      San Francisco             CA                94118                NaN   \n2      San Francisco             CA                94110                NaN   \n3      San Francisco             CA                94111                NaN   \n4      San Francisco             CA                94109                NaN   \n...              ...            ...                  ...                ...   \n53968  San Francisco             CA                94107                NaN   \n53969  San Francisco             CA                94132                NaN   \n53970  San Francisco             CA                94105                NaN   \n53971  San Francisco             CA                94112                NaN   \n53972  San Francisco             CA                94107                NaN   \n\n       business_longitude business_location  business_phone_number  ...  \\\n0                     NaN               NaN           1.415043e+10  ...   \n1                     NaN               NaN           1.415724e+10  ...   \n2                     NaN               NaN                    NaN  ...   \n3                     NaN               NaN           1.415488e+10  ...   \n4                     NaN               NaN                    NaN  ...   \n...                   ...               ...                    ...  ...   \n53968                 NaN               NaN                    NaN  ...   \n53969                 NaN               NaN                    NaN  ...   \n53970                 NaN               NaN                    NaN  ...   \n53971                 NaN               NaN                    NaN  ...   \n53972                 NaN               NaN                    NaN  ...   \n\n                inspection_type           violation_id  \\\n0                 New Ownership                    NaN   \n1         Routine - Unscheduled  97975_20190725_103124   \n2                 New Ownership                    NaN   \n3              New Construction                    NaN   \n4                 New Ownership  85986_20161011_103114   \n...                         ...                    ...   \n53968     Routine - Unscheduled  89569_20190506_103124   \n53969  New Ownership - Followup                    NaN   \n53970     Routine - Unscheduled  84541_20190506_103133   \n53971     Routine - Unscheduled  91572_20190506_103116   \n53972     Routine - Unscheduled  89569_20190506_103157   \n\n                                   violation_description  risk_category  \\\n0                                                    NaN            NaN   \n1      Inadequately cleaned or sanitized food contact...  Moderate Risk   \n2                                                    NaN            NaN   \n3                                                    NaN            NaN   \n4                           High risk vermin infestation      High Risk   \n...                                                  ...            ...   \n53968  Inadequately cleaned or sanitized food contact...  Moderate Risk   \n53969                                                NaN            NaN   \n53970             Foods not protected from contamination  Moderate Risk   \n53971  Inadequate food safety knowledge or lack of ce...  Moderate Risk   \n53972  Food safety certificate or food handler card n...       Low Risk   \n\n      Neighborhoods (old) Police Districts Supervisor Districts  \\\n0                     NaN              NaN                  NaN   \n1                     NaN              NaN                  NaN   \n2                     NaN              NaN                  NaN   \n3                     NaN              NaN                  NaN   \n4                     NaN              NaN                  NaN   \n...                   ...              ...                  ...   \n53968                 NaN              NaN                  NaN   \n53969                 NaN              NaN                  NaN   \n53970                 NaN              NaN                  NaN   \n53971                 NaN              NaN                  NaN   \n53972                 NaN              NaN                  NaN   \n\n       Fire Prevention Districts  Zip Codes  Analysis Neighborhoods  \n0                            NaN        NaN                     NaN  \n1                            NaN        NaN                     NaN  \n2                            NaN        NaN                     NaN  \n3                            NaN        NaN                     NaN  \n4                            NaN        NaN                     NaN  \n...                          ...        ...                     ...  \n53968                        NaN        NaN                     NaN  \n53969                        NaN        NaN                     NaN  \n53970                        NaN        NaN                     NaN  \n53971                        NaN        NaN                     NaN  \n53972                        NaN        NaN                     NaN  \n\n[53973 rows x 23 columns]",
      "text/html": "<div>\n<style scoped>\n    .dataframe tbody tr th:only-of-type {\n        vertical-align: middle;\n    }\n\n    .dataframe tbody tr th {\n        vertical-align: top;\n    }\n\n    .dataframe thead th {\n        text-align: right;\n    }\n</style>\n<table border=\"1\" class=\"dataframe\">\n  <thead>\n    <tr style=\"text-align: right;\">\n      <th></th>\n      <th>business_id</th>\n      <th>business_name</th>\n      <th>business_address</th>\n      <th>business_city</th>\n      <th>business_state</th>\n      <th>business_postal_code</th>\n      <th>business_latitude</th>\n      <th>business_longitude</th>\n      <th>business_location</th>\n      <th>business_phone_number</th>\n      <th>...</th>\n      <th>inspection_type</th>\n      <th>violation_id</th>\n      <th>violation_description</th>\n      <th>risk_category</th>\n      <th>Neighborhoods (old)</th>\n      <th>Police Districts</th>\n      <th>Supervisor Districts</th>\n      <th>Fire Prevention Districts</th>\n      <th>Zip Codes</th>\n      <th>Analysis Neighborhoods</th>\n    </tr>\n  </thead>\n  <tbody>\n    <tr>\n      <th>0</th>\n      <td>101192</td>\n      <td>Cochinita #2</td>\n      <td>2 Marina Blvd Fort Mason</td>\n      <td>San Francisco</td>\n      <td>CA</td>\n      <td>NaN</td>\n      <td>NaN</td>\n      <td>NaN</td>\n      <td>NaN</td>\n      <td>1.415043e+10</td>\n      <td>...</td>\n      <td>New Ownership</td>\n      <td>NaN</td>\n      <td>NaN</td>\n      <td>NaN</td>\n      <td>NaN</td>\n      <td>NaN</td>\n      <td>NaN</td>\n      <td>NaN</td>\n      <td>NaN</td>\n      <td>NaN</td>\n    </tr>\n    <tr>\n      <th>1</th>\n      <td>97975</td>\n      <td>BREADBELLY</td>\n      <td>1408 Clement St</td>\n      <td>San Francisco</td>\n      <td>CA</td>\n      <td>94118</td>\n      <td>NaN</td>\n      <td>NaN</td>\n      <td>NaN</td>\n      <td>1.415724e+10</td>\n      <td>...</td>\n      <td>Routine - Unscheduled</td>\n      <td>97975_20190725_103124</td>\n      <td>Inadequately cleaned or sanitized food contact...</td>\n      <td>Moderate Risk</td>\n      <td>NaN</td>\n      <td>NaN</td>\n      <td>NaN</td>\n      <td>NaN</td>\n      <td>NaN</td>\n      <td>NaN</td>\n    </tr>\n    <tr>\n      <th>2</th>\n      <td>92982</td>\n      <td>Great Gold Restaurant</td>\n      <td>3161 24th St.</td>\n      <td>San Francisco</td>\n      <td>CA</td>\n      <td>94110</td>\n      <td>NaN</td>\n      <td>NaN</td>\n      <td>NaN</td>\n      <td>NaN</td>\n      <td>...</td>\n      <td>New Ownership</td>\n      <td>NaN</td>\n      <td>NaN</td>\n      <td>NaN</td>\n      <td>NaN</td>\n      <td>NaN</td>\n      <td>NaN</td>\n      <td>NaN</td>\n      <td>NaN</td>\n      <td>NaN</td>\n    </tr>\n    <tr>\n      <th>3</th>\n      <td>101389</td>\n      <td>HOMAGE</td>\n      <td>214 CALIFORNIA ST</td>\n      <td>San Francisco</td>\n      <td>CA</td>\n      <td>94111</td>\n      <td>NaN</td>\n      <td>NaN</td>\n      <td>NaN</td>\n      <td>1.415488e+10</td>\n      <td>...</td>\n      <td>New Construction</td>\n      <td>NaN</td>\n      <td>NaN</td>\n      <td>NaN</td>\n      <td>NaN</td>\n      <td>NaN</td>\n      <td>NaN</td>\n      <td>NaN</td>\n      <td>NaN</td>\n      <td>NaN</td>\n    </tr>\n    <tr>\n      <th>4</th>\n      <td>85986</td>\n      <td>Pronto Pizza</td>\n      <td>798 Eddy St</td>\n      <td>San Francisco</td>\n      <td>CA</td>\n      <td>94109</td>\n      <td>NaN</td>\n      <td>NaN</td>\n      <td>NaN</td>\n      <td>NaN</td>\n      <td>...</td>\n      <td>New Ownership</td>\n      <td>85986_20161011_103114</td>\n      <td>High risk vermin infestation</td>\n      <td>High Risk</td>\n      <td>NaN</td>\n      <td>NaN</td>\n      <td>NaN</td>\n      <td>NaN</td>\n      <td>NaN</td>\n      <td>NaN</td>\n    </tr>\n    <tr>\n      <th>...</th>\n      <td>...</td>\n      <td>...</td>\n      <td>...</td>\n      <td>...</td>\n      <td>...</td>\n      <td>...</td>\n      <td>...</td>\n      <td>...</td>\n      <td>...</td>\n      <td>...</td>\n      <td>...</td>\n      <td>...</td>\n      <td>...</td>\n      <td>...</td>\n      <td>...</td>\n      <td>...</td>\n      <td>...</td>\n      <td>...</td>\n      <td>...</td>\n      <td>...</td>\n      <td>...</td>\n    </tr>\n    <tr>\n      <th>53968</th>\n      <td>89569</td>\n      <td>Blue Bottle Coffee</td>\n      <td>2 South Park</td>\n      <td>San Francisco</td>\n      <td>CA</td>\n      <td>94107</td>\n      <td>NaN</td>\n      <td>NaN</td>\n      <td>NaN</td>\n      <td>NaN</td>\n      <td>...</td>\n      <td>Routine - Unscheduled</td>\n      <td>89569_20190506_103124</td>\n      <td>Inadequately cleaned or sanitized food contact...</td>\n      <td>Moderate Risk</td>\n      <td>NaN</td>\n      <td>NaN</td>\n      <td>NaN</td>\n      <td>NaN</td>\n      <td>NaN</td>\n      <td>NaN</td>\n    </tr>\n    <tr>\n      <th>53969</th>\n      <td>99764</td>\n      <td>POKE KANA</td>\n      <td>65 CAMBON Dr</td>\n      <td>San Francisco</td>\n      <td>CA</td>\n      <td>94132</td>\n      <td>NaN</td>\n      <td>NaN</td>\n      <td>NaN</td>\n      <td>NaN</td>\n      <td>...</td>\n      <td>New Ownership - Followup</td>\n      <td>NaN</td>\n      <td>NaN</td>\n      <td>NaN</td>\n      <td>NaN</td>\n      <td>NaN</td>\n      <td>NaN</td>\n      <td>NaN</td>\n      <td>NaN</td>\n      <td>NaN</td>\n    </tr>\n    <tr>\n      <th>53970</th>\n      <td>84541</td>\n      <td>Philz Coffee</td>\n      <td>300 Folsom St</td>\n      <td>San Francisco</td>\n      <td>CA</td>\n      <td>94105</td>\n      <td>NaN</td>\n      <td>NaN</td>\n      <td>NaN</td>\n      <td>NaN</td>\n      <td>...</td>\n      <td>Routine - Unscheduled</td>\n      <td>84541_20190506_103133</td>\n      <td>Foods not protected from contamination</td>\n      <td>Moderate Risk</td>\n      <td>NaN</td>\n      <td>NaN</td>\n      <td>NaN</td>\n      <td>NaN</td>\n      <td>NaN</td>\n      <td>NaN</td>\n    </tr>\n    <tr>\n      <th>53971</th>\n      <td>91572</td>\n      <td>El Gran Taco Loco</td>\n      <td>4591 Mission St.</td>\n      <td>San Francisco</td>\n      <td>CA</td>\n      <td>94112</td>\n      <td>NaN</td>\n      <td>NaN</td>\n      <td>NaN</td>\n      <td>NaN</td>\n      <td>...</td>\n      <td>Routine - Unscheduled</td>\n      <td>91572_20190506_103116</td>\n      <td>Inadequate food safety knowledge or lack of ce...</td>\n      <td>Moderate Risk</td>\n      <td>NaN</td>\n      <td>NaN</td>\n      <td>NaN</td>\n      <td>NaN</td>\n      <td>NaN</td>\n      <td>NaN</td>\n    </tr>\n    <tr>\n      <th>53972</th>\n      <td>89569</td>\n      <td>Blue Bottle Coffee</td>\n      <td>2 South Park</td>\n      <td>San Francisco</td>\n      <td>CA</td>\n      <td>94107</td>\n      <td>NaN</td>\n      <td>NaN</td>\n      <td>NaN</td>\n      <td>NaN</td>\n      <td>...</td>\n      <td>Routine - Unscheduled</td>\n      <td>89569_20190506_103157</td>\n      <td>Food safety certificate or food handler card n...</td>\n      <td>Low Risk</td>\n      <td>NaN</td>\n      <td>NaN</td>\n      <td>NaN</td>\n      <td>NaN</td>\n      <td>NaN</td>\n      <td>NaN</td>\n    </tr>\n  </tbody>\n</table>\n<p>53973 rows × 23 columns</p>\n</div>"
     },
     "execution_count": 140,
     "metadata": {},
     "output_type": "execute_result"
    }
   ],
   "source": [
    "df"
   ],
   "metadata": {
    "collapsed": false,
    "ExecuteTime": {
     "end_time": "2023-05-28T18:41:10.363643100Z",
     "start_time": "2023-05-28T18:41:10.317319500Z"
    }
   }
  },
  {
   "cell_type": "markdown",
   "source": [
    "Удалим признаки класса object"
   ],
   "metadata": {
    "collapsed": false
   }
  },
  {
   "cell_type": "code",
   "execution_count": 141,
   "outputs": [],
   "source": [
    "df.drop(['business_name'], axis=1, inplace=True)\n",
    "df.drop(['business_postal_code'],axis=1, inplace=True)\n",
    "df.drop(['inspection_type'],axis=1, inplace=True)\n",
    "df.drop(['violation_id'],axis=1, inplace=True)\n",
    "df.drop(['violation_description'],axis=1, inplace=True)\n",
    "df.drop(['inspection_date'],axis=1, inplace=True)\n",
    "df.drop(['risk_category'],axis=1, inplace=True)\n",
    "df.drop(['business_address'],axis=1, inplace=True)\n",
    "df.drop(['business_city'],axis=1, inplace=True)\n",
    "df.drop(['business_state'],axis=1, inplace=True)\n",
    "df.drop(['business_location'],axis=1, inplace=True)\n",
    "df.drop(['inspection_id'],axis=1, inplace=True)"
   ],
   "metadata": {
    "collapsed": false,
    "ExecuteTime": {
     "end_time": "2023-05-28T18:41:14.843100100Z",
     "start_time": "2023-05-28T18:41:14.770420100Z"
    }
   }
  },
  {
   "cell_type": "code",
   "execution_count": 142,
   "outputs": [
    {
     "name": "stdout",
     "output_type": "stream",
     "text": [
      "<class 'pandas.core.frame.DataFrame'>\n",
      "RangeIndex: 53973 entries, 0 to 53972\n",
      "Data columns (total 11 columns):\n",
      " #   Column                     Non-Null Count  Dtype  \n",
      "---  ------                     --------------  -----  \n",
      " 0   business_id                53973 non-null  int64  \n",
      " 1   business_latitude          34417 non-null  float64\n",
      " 2   business_longitude         34417 non-null  float64\n",
      " 3   business_phone_number      17035 non-null  float64\n",
      " 4   inspection_score           53973 non-null  float64\n",
      " 5   Neighborhoods (old)        34379 non-null  float64\n",
      " 6   Police Districts           34379 non-null  float64\n",
      " 7   Supervisor Districts       34379 non-null  float64\n",
      " 8   Fire Prevention Districts  34327 non-null  float64\n",
      " 9   Zip Codes                  34397 non-null  float64\n",
      " 10  Analysis Neighborhoods     34379 non-null  float64\n",
      "dtypes: float64(10), int64(1)\n",
      "memory usage: 4.5 MB\n"
     ]
    }
   ],
   "source": [
    "df.info()"
   ],
   "metadata": {
    "collapsed": false,
    "ExecuteTime": {
     "end_time": "2023-05-28T18:41:15.567738900Z",
     "start_time": "2023-05-28T18:41:15.551891300Z"
    }
   }
  },
  {
   "cell_type": "markdown",
   "source": [
    "Удалим строки с пропусками и разобьём датасет на обучающую и тестовую выборки"
   ],
   "metadata": {
    "collapsed": false
   }
  },
  {
   "cell_type": "code",
   "execution_count": 143,
   "outputs": [],
   "source": [
    "df= df.dropna()"
   ],
   "metadata": {
    "collapsed": false,
    "ExecuteTime": {
     "end_time": "2023-05-28T18:41:17.422993200Z",
     "start_time": "2023-05-28T18:41:17.409223300Z"
    }
   }
  },
  {
   "cell_type": "code",
   "execution_count": 144,
   "outputs": [
    {
     "data": {
      "text/plain": "(array([[ 4.79400000e+03,  3.77786340e+01, -1.22393089e+02, ...,\n          6.00000000e+00,  2.88560000e+04,  3.40000000e+01],\n        [ 6.36190000e+04,  3.77761330e+01, -1.22419484e+02, ...,\n          7.00000000e+00,  2.88520000e+04,  3.60000000e+01],\n        [ 3.64900000e+03,  3.77657080e+01, -1.22409002e+02, ...,\n          8.00000000e+00,  2.88530000e+04,  2.00000000e+01],\n        ...,\n        [ 5.83700000e+03,  3.77672310e+01, -1.22436377e+02, ...,\n          1.50000000e+01,  2.88620000e+04,  5.00000000e+00],\n        [ 7.64300000e+03,  3.77121480e+01, -1.22452076e+02, ...,\n          9.00000000e+00,  2.88610000e+04,  2.80000000e+01],\n        [ 6.50570000e+04,  3.77972380e+01, -1.22434533e+02, ...,\n          1.30000000e+01,  5.70000000e+01,  1.30000000e+01]]),\n array([ 71.,  87.,  87., ..., 100.,  87.,  80.]))"
     },
     "execution_count": 144,
     "metadata": {},
     "output_type": "execute_result"
    }
   ],
   "source": [
    "X = df.drop('inspection_score', axis=1).values\n",
    "y = df['inspection_score'].values\n",
    "X, y"
   ],
   "metadata": {
    "collapsed": false,
    "ExecuteTime": {
     "end_time": "2023-05-28T18:41:18.190883500Z",
     "start_time": "2023-05-28T18:41:18.152799600Z"
    }
   }
  },
  {
   "cell_type": "code",
   "execution_count": 145,
   "outputs": [],
   "source": [
    "X_train, X_test, y_train, y_test = train_test_split(X, y, test_size = 0.2, random_state = 42)"
   ],
   "metadata": {
    "collapsed": false,
    "ExecuteTime": {
     "end_time": "2023-05-28T18:41:19.053119500Z",
     "start_time": "2023-05-28T18:41:19.034102600Z"
    }
   }
  },
  {
   "cell_type": "markdown",
   "source": [
    "#### Градиентный бустинг"
   ],
   "metadata": {
    "collapsed": false
   }
  },
  {
   "cell_type": "code",
   "execution_count": 146,
   "outputs": [
    {
     "name": "stdout",
     "output_type": "stream",
     "text": [
      "[87. 94. 72. ... 92. 92. 87.] [86.96939393 83.92128243 87.12618389 ... 88.83414519 84.72884002\n",
      " 82.59767857] [100.  87.  76. ...  90.  87.  83.] [87.51698524 89.48219088 85.36745509 ... 84.23378466 87.41039731\n",
      " 86.05378034]\n"
     ]
    }
   ],
   "source": [
    "from sklearn.ensemble import GradientBoostingClassifier, GradientBoostingRegressor\n",
    "grad_boost = GradientBoostingRegressor()\n",
    "grad_boost.fit(X_train, y_train)\n",
    "ygrad_boost= grad_boost.predict(X_test)\n",
    "y_train_grad_boost = grad_boost.predict(X_train)\n",
    "\n",
    "print(\n",
    "    y_train, ygrad_boost,\n",
    "    y_test, y_train_grad_boost\n",
    ")"
   ],
   "metadata": {
    "collapsed": false,
    "ExecuteTime": {
     "end_time": "2023-05-28T18:41:23.519859400Z",
     "start_time": "2023-05-28T18:41:23.068378500Z"
    }
   }
  },
  {
   "cell_type": "markdown",
   "source": [
    "#### Метод опорных векторов:"
   ],
   "metadata": {
    "collapsed": false
   }
  },
  {
   "cell_type": "code",
   "execution_count": 147,
   "outputs": [
    {
     "name": "stdout",
     "output_type": "stream",
     "text": [
      "[87. 94. 72. ... 92. 92. 87.] [2.12343279e+14 2.08794581e+14 2.50481571e+14 ... 8.68751033e+14\n",
      " 1.97808928e+14 2.26704156e+14] [100.  87.  76. ...  90.  87.  83.] [1.72956732e+14 2.42076962e+14 2.34564982e+14 ... 1.72934996e+14\n",
      " 1.83897912e+14 2.17489893e+14]\n"
     ]
    }
   ],
   "source": [
    "SVRM =SVR(kernel='linear').fit(X_train, y_train)\n",
    "ySVR= SVRM.predict(X_test)\n",
    "y_train_SVR = SVRM.predict(X_train)\n",
    "\n",
    "print(\n",
    "    y_train, ySVR,\n",
    "    y_test, y_train_SVR\n",
    ")"
   ],
   "metadata": {
    "collapsed": false,
    "ExecuteTime": {
     "end_time": "2023-05-28T18:41:28.109810600Z",
     "start_time": "2023-05-28T18:41:26.305456500Z"
    }
   }
  },
  {
   "cell_type": "code",
   "execution_count": null,
   "outputs": [],
   "source": [],
   "metadata": {
    "collapsed": false
   }
  }
 ],
 "metadata": {
  "kernelspec": {
   "display_name": "Python 3",
   "language": "python",
   "name": "python3"
  },
  "language_info": {
   "codemirror_mode": {
    "name": "ipython",
    "version": 2
   },
   "file_extension": ".py",
   "mimetype": "text/x-python",
   "name": "python",
   "nbconvert_exporter": "python",
   "pygments_lexer": "ipython2",
   "version": "2.7.6"
  }
 },
 "nbformat": 4,
 "nbformat_minor": 0
}
